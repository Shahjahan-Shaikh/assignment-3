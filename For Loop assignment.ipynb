{
 "cells": [
  {
   "cell_type": "code",
   "execution_count": 2,
   "id": "ab4e577f-6731-45cf-9866-40ebd62090ce",
   "metadata": {},
   "outputs": [
    {
     "name": "stdout",
     "output_type": "stream",
     "text": [
      "1\n",
      "2\n",
      "3\n",
      "4\n",
      "5\n",
      "6\n",
      "7\n",
      "8\n",
      "9\n",
      "10\n"
     ]
    }
   ],
   "source": [
    " for i in range(1,11):#iterating range of numbers from 1 to 10 and assigning it to i\n",
    "        print(i)"
   ]
  },
  {
   "cell_type": "code",
   "execution_count": 3,
   "id": "e14ee2a2-a648-49e0-9238-3cae14717aec",
   "metadata": {},
   "outputs": [
    {
     "name": "stdout",
     "output_type": "stream",
     "text": [
      "45\n"
     ]
    }
   ],
   "source": [
    "l=[1,2,3,4,5,6,7,8,9]\n",
    "a=int()#converting into int\n",
    "for i in l:\n",
    "    a = (i+a)#adding i and a and storing it into a \n",
    "print(a)\n",
    "    "
   ]
  },
  {
   "cell_type": "code",
   "execution_count": 4,
   "id": "c418f61d-7bde-4e97-a0b0-03799fc89164",
   "metadata": {},
   "outputs": [
    {
     "name": "stdout",
     "output_type": "stream",
     "text": [
      "hkiahs\n"
     ]
    }
   ],
   "source": [
    "s=\"shaikh\"\n",
    "reversed_string=\"\"#making an empty string to store reversed string\n",
    "for i in reversed(s):#reversed function is used to iterate i in reverse \n",
    "    reversed_string+=i #reversed string is added with i\n",
    "print(reversed_string)#printing the reversed string \n",
    "    \n",
    "    "
   ]
  },
  {
   "cell_type": "code",
   "execution_count": 7,
   "id": "90203da1-b604-4593-9522-e8b9a5ac80f3",
   "metadata": {},
   "outputs": [
    {
     "name": "stdin",
     "output_type": "stream",
     "text": [
      "enter your number:  5\n"
     ]
    },
    {
     "name": "stdout",
     "output_type": "stream",
     "text": [
      "120\n"
     ]
    }
   ],
   "source": [
    "n=int(input(\"enter your number: \"))#taking input from user \n",
    "a=1\n",
    "for i in range(1,n+1):#taking range of user input \n",
    "    \n",
    "    a=i*a#multiplying i with a and then store it into a \n",
    "print(a)#printing a"
   ]
  },
  {
   "cell_type": "code",
   "execution_count": 8,
   "id": "360dbddc-0326-477d-ad60-2203a0051a50",
   "metadata": {},
   "outputs": [
    {
     "name": "stdin",
     "output_type": "stream",
     "text": [
      "enter your number 45\n"
     ]
    },
    {
     "name": "stdout",
     "output_type": "stream",
     "text": [
      "45 x 1 = 45\n",
      "45 x 2 = 90\n",
      "45 x 3 = 135\n",
      "45 x 4 = 180\n",
      "45 x 5 = 225\n",
      "45 x 6 = 270\n",
      "45 x 7 = 315\n",
      "45 x 8 = 360\n",
      "45 x 9 = 405\n",
      "45 x 10 = 450\n"
     ]
    }
   ],
   "source": [
    " m=int(input(\"enter your number\"))#taking input from user and then storing it into m \n",
    "for i in range (1,11):#taking range from 1 to 11 for table \n",
    "    print(m,\"x\",i,\"=\",i*m )#printing m and i with necessary symbols in between"
   ]
  },
  {
   "cell_type": "code",
   "execution_count": 9,
   "id": "9f351d8d-6389-4dda-a962-77bbb1817eea",
   "metadata": {},
   "outputs": [
    {
     "name": "stdout",
     "output_type": "stream",
     "text": [
      "Number of even numbers in given list is :  4\n",
      "Number of odd numbers in given list is :  5\n"
     ]
    }
   ],
   "source": [
    "mixlist=[1,2,3,4,5,6,7,8,9]#list with mix numbers even and odd \n",
    "evencount=int()#empty string to store even numbers\n",
    "oddcount=int()#empty string to store odd numbers\n",
    "for i in mixlist :\n",
    "    if i%2==0:#dividing with 2 to check if it is even number \n",
    "        evencount=evencount+1 #after above condition is true evencount will increse by 1\n",
    "    else:\n",
    "        oddcount=oddcount+1# if condition is false oddcount will increse by one \n",
    "print(\"Number of even numbers in given list is : \",evencount)\n",
    "print(\"Number of odd numbers in given list is : \",oddcount)"
   ]
  },
  {
   "cell_type": "code",
   "execution_count": 10,
   "id": "c0494e88-ff59-4cc2-898a-799fbcd42916",
   "metadata": {},
   "outputs": [
    {
     "name": "stdout",
     "output_type": "stream",
     "text": [
      "square of 1 is 1\n",
      "square of 2 is 4\n",
      "square of 3 is 9\n",
      "square of 4 is 16\n",
      "square of 5 is 25\n"
     ]
    }
   ],
   "source": [
    "for i in range(1,6): #taking range of 1 to 6 \n",
    "    square=i**2 # multiplying i with i using ** 2 if there was 3 it will multiply 3 times\n",
    "    print(\"square of\",i,\"is\",square) # printing result"
   ]
  },
  {
   "cell_type": "code",
   "execution_count": 11,
   "id": "0cd66451-a805-4c94-b3a1-f422d664153e",
   "metadata": {},
   "outputs": [
    {
     "name": "stdout",
     "output_type": "stream",
     "text": [
      "length of a string is : 9\n"
     ]
    }
   ],
   "source": [
    "a=\"shahjahan\"\n",
    "length=int() # makingan empty variable to store length \n",
    "for i in a:\n",
    "    length=length+1 # length will increase by one whenever above statement is true\n",
    "print(\"length of a string is :\",length) # printing length\n",
    "    "
   ]
  },
  {
   "cell_type": "code",
   "execution_count": 12,
   "id": "e712e96b-62a2-457b-a89e-54e4e660492b",
   "metadata": {},
   "outputs": [
    {
     "name": "stdout",
     "output_type": "stream",
     "text": [
      "average of a list of numbers is :  5.0\n"
     ]
    }
   ],
   "source": [
    "numbers=[1,2,3,4,5,6,7,8,9]\n",
    "total_sum = 0\n",
    "count = 0\n",
    "# Iterate through the list and calculate the sum and count\n",
    "for num in numbers:\n",
    "    total_sum += num\n",
    "    count += 1\n",
    "# Calculate the average\n",
    "average = total_sum / count\n",
    "print(\"average of a list of numbers is : \",average)\n",
    "\n",
    "\n"
   ]
  },
  {
   "cell_type": "code",
   "execution_count": null,
   "id": "0bc1fcad-c716-48bc-9456-c1656fff22c3",
   "metadata": {},
   "outputs": [],
   "source": []
  },
  {
   "cell_type": "code",
   "execution_count": 19,
   "id": "b3810abf-2a61-470f-aff0-bb82165862b3",
   "metadata": {},
   "outputs": [
    {
     "name": "stdin",
     "output_type": "stream",
     "text": [
      "Enter the number of Fibonacci numbers you want to generate:  10\n"
     ]
    },
    {
     "name": "stdout",
     "output_type": "stream",
     "text": [
      "The first 10 Fibonacci numbers are:\n",
      "[0, 1, 1, 2, 3, 5, 8, 13, 21, 34]\n"
     ]
    }
   ],
   "source": [
    "def generate_fibonacci_sequence(length):\n",
    "    # Initialize the Fibonacci sequence with the first two numbers\n",
    "    fibonacci_sequence = [0, 1]\n",
    "    # Generate Fibonacci numbers until the desired length is reached\n",
    "    for _ in range(length - 2):\n",
    "        # Calculate the next Fibonacci number and append it to the sequence\n",
    "        next_fibonacci = fibonacci_sequence[-1] + fibonacci_sequence[-2]\n",
    "        fibonacci_sequence.append(next_fibonacci)\n",
    "    return fibonacci_sequence[:length]\n",
    "\n",
    "def main():\n",
    "    # Ask the user for the number of Fibonacci numbers to generate\n",
    "    num_terms = int(input(\"Enter the number of Fibonacci numbers you want to generate: \"))\n",
    "    # Generate the Fibonacci sequence\n",
    "    fibonacci_numbers = generate_fibonacci_sequence(num_terms)\n",
    "    # Print the generated Fibonacci sequence\n",
    "    print(f\"The first {num_terms} Fibonacci numbers are:\")\n",
    "    print(fibonacci_numbers)\n",
    "\n",
    "if __name__ == \"__main__\":\n",
    "    main()\n",
    "\n"
   ]
  },
  {
   "cell_type": "code",
   "execution_count": 20,
   "id": "752d69ae-7729-4381-b90c-c0e6bedb2dd6",
   "metadata": {},
   "outputs": [
    {
     "name": "stdout",
     "output_type": "stream",
     "text": [
      "Unique elements: [1, 2, 3, 4, 5, 6, 9]\n",
      "Duplicate elements: [4, 3]\n"
     ]
    }
   ],
   "source": [
    "a = [1, 2, 3, 4, 4, 5, 3, 6, 9]\n",
    "duplicate = [] #empty list to add duplicates\n",
    "notduplicate = [] #empty list to add unique\n",
    "\n",
    "[notduplicate.append(i) if i not in notduplicate and i not in duplicate else duplicate.append(i) for i in a]\n",
    "\n",
    "print(\"Unique elements:\", notduplicate)\n",
    "print(\"Duplicate elements:\", duplicate)\n"
   ]
  },
  {
   "cell_type": "code",
   "execution_count": 15,
   "id": "f7b1a4ef-a76b-48a9-a246-8be88a463719",
   "metadata": {},
   "outputs": [],
   "source": [
    "def primeof_range(x):\n",
    "    x=int(x) # using int function to make x integer\n",
    "    for y in range(x):\n",
    "        if y%2==0:\n",
    "            print(\"It is an even number:\",y)#printing y\n"
   ]
  },
  {
   "cell_type": "code",
   "execution_count": 16,
   "id": "7e338644-2ba2-4b7f-be52-256d9038b493",
   "metadata": {},
   "outputs": [
    {
     "name": "stdout",
     "output_type": "stream",
     "text": [
      "It is an even number: 0\n",
      "It is an even number: 2\n",
      "It is an even number: 4\n",
      "It is an even number: 6\n",
      "It is an even number: 8\n"
     ]
    }
   ],
   "source": [
    "primeof_range(10)"
   ]
  },
  {
   "cell_type": "code",
   "execution_count": 31,
   "id": "90ee9d6a-30a8-4041-a66a-e6777a212d28",
   "metadata": {},
   "outputs": [
    {
     "name": "stdin",
     "output_type": "stream",
     "text": [
      "Enter your string : shaizan\n"
     ]
    },
    {
     "name": "stdout",
     "output_type": "stream",
     "text": [
      "This is a vowel : a\n",
      "This is a vowel : i\n",
      "Numbers of vowels in string is :  2\n",
      "None\n"
     ]
    }
   ],
   "source": [
    "def vowel_counter():\n",
    "    # declaring vowels in vowels variable \n",
    "    vowels=[\"A\",\"E\",\"I\",\"O\",\"U\",\"a\",\"e\",\"i\",\"o\",\"u\"]\n",
    "    count=int()#empty string to store count\n",
    "    q=input(\"Enter your string :\")# taking input from user\n",
    "    for i in vowels:\n",
    "        if i in q:\n",
    "            print(\"This is a vowel :\",i)\n",
    "            count+=1#if i exist in q count will increase\n",
    "    print(\"Numbers of vowels in string is : \",count)#printing count\n",
    "final= vowel_counter()\n",
    "print(final)\n",
    "            \n",
    "\n",
    "           \n",
    "        "
   ]
  },
  {
   "cell_type": "code",
   "execution_count": 22,
   "id": "d18dff66-b2c6-4749-940a-0643099dee9b",
   "metadata": {},
   "outputs": [
    {
     "name": "stdin",
     "output_type": "stream",
     "text": [
      "Enter your string : shaizan\n"
     ]
    },
    {
     "name": "stdout",
     "output_type": "stream",
     "text": [
      "This is a vowel : a\n",
      "This is a vowel : i\n",
      "Numbers of vowels in string is :  2\n"
     ]
    }
   ],
   "source": []
  },
  {
   "cell_type": "code",
   "execution_count": 19,
   "id": "3f746508-b465-48f2-8e98-60a8f514209f",
   "metadata": {},
   "outputs": [],
   "source": [
    "def find_max_element(matrix):\n",
    "    for row in matrix:\n",
    "        for element in row:\n",
    "            max_element=int()\n",
    "            if element > max_element:\n",
    "                max_element=element\n",
    "    m=print(\"maximum elemento in 2d list is: \",max_element)\n",
    "    return m"
   ]
  },
  {
   "cell_type": "code",
   "execution_count": 20,
   "id": "f685ed96-25ff-4dba-84be-145866b621cd",
   "metadata": {},
   "outputs": [
    {
     "name": "stdout",
     "output_type": "stream",
     "text": [
      "maximum elemento in 2d list is:  6\n"
     ]
    }
   ],
   "source": [
    "find_max_element([[1,2,3],[4,5,6]])"
   ]
  },
  {
   "cell_type": "code",
   "execution_count": 21,
   "id": "2d871a3c-7d14-4b50-813a-dc0b67999308",
   "metadata": {},
   "outputs": [
    {
     "name": "stdout",
     "output_type": "stream",
     "text": [
      "list after removing specific element:  [1, 2, 3, 5, 6, 8, 5, 6, 1, 2]\n"
     ]
    }
   ],
   "source": [
    "list_g=[1,2,3,4,5,6,8,4,5,4,6,4,1,2,4]\n",
    "specific=4\n",
    "for i in list_g:\n",
    "    if specific == i:\n",
    "        list_g.remove(i)\n",
    "print(\"list after removing specific element: \",list_g)\n",
    "        "
   ]
  },
  {
   "cell_type": "code",
   "execution_count": 22,
   "id": "d0553254-a12d-4fd1-8c3c-6809309b4bdc",
   "metadata": {},
   "outputs": [
    {
     "name": "stdout",
     "output_type": "stream",
     "text": [
      "Multiplication table for 1:\n",
      "1 x 1 = 1\n",
      "1 x 2 = 2\n",
      "1 x 3 = 3\n",
      "1 x 4 = 4\n",
      "1 x 5 = 5\n",
      "1 x 6 = 6\n",
      "1 x 7 = 7\n",
      "1 x 8 = 8\n",
      "1 x 9 = 9\n",
      "1 x 10 = 10\n",
      "\n",
      "Multiplication table for 2:\n",
      "2 x 1 = 2\n",
      "2 x 2 = 4\n",
      "2 x 3 = 6\n",
      "2 x 4 = 8\n",
      "2 x 5 = 10\n",
      "2 x 6 = 12\n",
      "2 x 7 = 14\n",
      "2 x 8 = 16\n",
      "2 x 9 = 18\n",
      "2 x 10 = 20\n",
      "\n",
      "Multiplication table for 3:\n",
      "3 x 1 = 3\n",
      "3 x 2 = 6\n",
      "3 x 3 = 9\n",
      "3 x 4 = 12\n",
      "3 x 5 = 15\n",
      "3 x 6 = 18\n",
      "3 x 7 = 21\n",
      "3 x 8 = 24\n",
      "3 x 9 = 27\n",
      "3 x 10 = 30\n",
      "\n",
      "Multiplication table for 4:\n",
      "4 x 1 = 4\n",
      "4 x 2 = 8\n",
      "4 x 3 = 12\n",
      "4 x 4 = 16\n",
      "4 x 5 = 20\n",
      "4 x 6 = 24\n",
      "4 x 7 = 28\n",
      "4 x 8 = 32\n",
      "4 x 9 = 36\n",
      "4 x 10 = 40\n",
      "\n",
      "Multiplication table for 5:\n",
      "5 x 1 = 5\n",
      "5 x 2 = 10\n",
      "5 x 3 = 15\n",
      "5 x 4 = 20\n",
      "5 x 5 = 25\n",
      "5 x 6 = 30\n",
      "5 x 7 = 35\n",
      "5 x 8 = 40\n",
      "5 x 9 = 45\n",
      "5 x 10 = 50\n",
      "\n"
     ]
    }
   ],
   "source": [
    "# multiplication table for numbers from 1 to 5\n",
    "for i in range(1, 6):  # Outer loop for the multiplicand (1 to 5)\n",
    "    print(f\"Multiplication table for {i}:\")\n",
    "    \n",
    "    for j in range(1, 11):  # Inner loop for the multiplier (1 to 10)\n",
    "        result = i * j\n",
    "        print(f\"{i} x {j} = {result}\")\n",
    "    print() #extra line to seprate tables\n"
   ]
  },
  {
   "cell_type": "code",
   "execution_count": 23,
   "id": "9975f052-ffb0-4eeb-a4ca-c409b92a1755",
   "metadata": {},
   "outputs": [
    {
     "name": "stdout",
     "output_type": "stream",
     "text": [
      "Fahrenheit\tCelsius\n",
      "-------------------------\n",
      "32\t\t0.00\n",
      "68\t\t20.00\n",
      "86\t\t30.00\n",
      "104\t\t40.00\n",
      "212\t\t100.00\n"
     ]
    }
   ],
   "source": [
    "# Function to convert Fahrenheit to Celsius\n",
    "def fahrenheit_to_celsius(fahrenheit):\n",
    "    return (fahrenheit - 32) * 5/9\n",
    "\n",
    "# List of Fahrenheit temperatures\n",
    "fahrenheit_temperatures = [32, 68, 86, 104, 212]\n",
    "\n",
    "# Convert and print temperatures in Celsius\n",
    "print(\"Fahrenheit\\tCelsius\")\n",
    "print(\"-------------------------\")\n",
    "\n",
    "for fahrenheit in fahrenheit_temperatures:\n",
    "    celsius = fahrenheit_to_celsius(fahrenheit)\n",
    "    print(f\"{fahrenheit}\\t\\t{celsius:.2f}\")\n",
    "\n",
    "    "
   ]
  },
  {
   "cell_type": "code",
   "execution_count": 24,
   "id": "6cfa5222-3d5e-4705-8702-c248e9f2bcf6",
   "metadata": {},
   "outputs": [
    {
     "name": "stdout",
     "output_type": "stream",
     "text": [
      "common elements from list1 and list2 is:  [4, 5]\n"
     ]
    }
   ],
   "source": [
    "list1=[1,2,3,4,5,6,7]\n",
    "list2=[4,5,9,66,89,34]\n",
    "list3=[]\n",
    "for i in list1:\n",
    "    if i in list2:\n",
    "        list3.append(i)\n",
    "print(\"common elements from list1 and list2 is: \",list3)\n",
    "    "
   ]
  },
  {
   "cell_type": "code",
   "execution_count": 25,
   "id": "05ec31aa-d479-456f-80fe-e0300045bf82",
   "metadata": {},
   "outputs": [],
   "source": [
    "def rightangled_triangle(length):\n",
    "    for i in range(1,length + 1):\n",
    "        for j in range(i):\n",
    "            print(\"*\",end=\" \")\n",
    "        print()\n",
    "        "
   ]
  },
  {
   "cell_type": "code",
   "execution_count": 26,
   "id": "adab4d34-ab15-47fa-8ebc-3b555195e8c7",
   "metadata": {},
   "outputs": [
    {
     "name": "stdout",
     "output_type": "stream",
     "text": [
      "* \n",
      "* * \n",
      "* * * \n",
      "* * * * \n",
      "* * * * * \n"
     ]
    }
   ],
   "source": [
    "rightangled_triangle(5)"
   ]
  },
  {
   "cell_type": "code",
   "execution_count": 27,
   "id": "10412ba1-47b5-4997-bdc6-a602c6f02049",
   "metadata": {},
   "outputs": [],
   "source": [
    "def gcd_finder(a,b):\n",
    "    min_val=min(a,b)\n",
    "    gcd=1\n",
    "    for i in  range(1,min_val + 1):\n",
    "        if a%i==0 and b%i==0:\n",
    "            gcd=i\n",
    "    return gcd\n",
    "     "
   ]
  },
  {
   "cell_type": "code",
   "execution_count": 28,
   "id": "954dcc35-8107-4a25-80f2-65df4c649c99",
   "metadata": {},
   "outputs": [
    {
     "data": {
      "text/plain": [
       "10"
      ]
     },
     "execution_count": 28,
     "metadata": {},
     "output_type": "execute_result"
    }
   ],
   "source": [
    "gcd_finder(10,20)"
   ]
  },
  {
   "cell_type": "code",
   "execution_count": 29,
   "id": "9d84c045-acc7-45d6-b16d-e4ac3e7c6ea7",
   "metadata": {},
   "outputs": [
    {
     "name": "stdout",
     "output_type": "stream",
     "text": [
      "28\n"
     ]
    }
   ],
   "source": [
    "h=[1,2,3,4,5,6,7]\n",
    "result=0\n",
    "sum_list=[result := i + result for i in h]\n",
    "print(result)"
   ]
  },
  {
   "cell_type": "code",
   "execution_count": 30,
   "id": "5dda33b9-99c8-418e-93b9-30750eaaced3",
   "metadata": {},
   "outputs": [
    {
     "name": "stdin",
     "output_type": "stream",
     "text": [
      "Enter a number to find its prime factors:  15\n"
     ]
    },
    {
     "name": "stdout",
     "output_type": "stream",
     "text": [
      "Prime factors of 15: [3, 5]\n"
     ]
    }
   ],
   "source": [
    "def prime_factors(n):\n",
    "    factors = [i for i in range(2, n + 1) if n % i == 0 and all(i % j != 0 for j in range(2, int(i**0.5) + 1))]\n",
    "    return factors\n",
    "\n",
    "# Input: Get the number from the user\n",
    "num = int(input(\"Enter a number to find its prime factors: \"))\n",
    "\n",
    "# Find and display the prime factors\n",
    "result = prime_factors(num)\n",
    "print(f\"Prime factors of {num}: {result}\")\n"
   ]
  },
  {
   "cell_type": "code",
   "execution_count": 17,
   "id": "11d513bf-b584-41b4-b3ab-a9d7c4edda8e",
   "metadata": {},
   "outputs": [
    {
     "name": "stdin",
     "output_type": "stream",
     "text": [
      "Enter elements separated by spaces or commas:  a,d,c,c,d,s,a,a\n"
     ]
    },
    {
     "name": "stdout",
     "output_type": "stream",
     "text": [
      "Original List: ['a', 'd', 'c', 'c', 'd', 's', 'a', 'a']\n",
      "Unique Elements (appear only once): ['s']\n"
     ]
    }
   ],
   "source": [
    "def extract_unique_elements(input_list):\n",
    "    # Count the occurrences of each element\n",
    "    element_counts = {element: input_list.count(element) for element in input_list}\n",
    "\n",
    "    # Extract unique elements that appear only once\n",
    "    unique_elements = [element for element, count in element_counts.items() if count == 1]\n",
    "\n",
    "    return unique_elements\n",
    "\n",
    "# Input: Get a list of elements from the user\n",
    "user_input = input(\"Enter elements separated by spaces or commas: \")\n",
    "\n",
    "# Split the input using both spaces and commas, convert to list\n",
    "input_list = user_input.replace(\",\", \" \").split()\n",
    "\n",
    "# Extract unique elements (appear only once) using list comprehension\n",
    "unique_elements = extract_unique_elements(input_list)\n",
    "\n",
    "# Display the result\n",
    "print(f\"Original List: {input_list}\")\n",
    "print(f\"Unique Elements (appear only once): {unique_elements}\")\n",
    "\n",
    "    \n",
    "    \n",
    "\n",
    "\n"
   ]
  },
  {
   "cell_type": "code",
   "execution_count": 1,
   "id": "a5e3b27f-6001-4720-8560-cbe1e51c134c",
   "metadata": {},
   "outputs": [
    {
     "name": "stdout",
     "output_type": "stream",
     "text": [
      "Palindromic Numbers up to 200: [0, 1, 2, 3, 4, 5, 6, 7, 8, 9, 11, 22, 33, 44, 55, 66, 77, 88, 99, 101, 111, 121, 131, 141, 151, 161, 171, 181, 191]\n"
     ]
    }
   ],
   "source": [
    "def is_palindrome(number):\n",
    "    return str(number) == str(number)[::-1]\n",
    "\n",
    "def generate_palindromic_numbers(limit):\n",
    "    return [num for num in range(limit + 1) if is_palindrome(num)]\n",
    "\n",
    "# Example: Generate palindromic numbers up to 1000\n",
    "limit = 200\n",
    "palindromic_numbers = generate_palindromic_numbers(limit)\n",
    "print(\"Palindromic Numbers up to {}: {}\".format(limit, palindromic_numbers))\n"
   ]
  },
  {
   "cell_type": "code",
   "execution_count": 2,
   "id": "58a2d957-d6e9-49ed-af14-da59a49d9343",
   "metadata": {},
   "outputs": [
    {
     "name": "stdout",
     "output_type": "stream",
     "text": [
      "[1, 2, 3, 4, 5, 6, 7, 8]\n"
     ]
    }
   ],
   "source": [
    "def flatten_nested_list(nested_list):\n",
    "    return [item for sublist in nested_list for item in (flatten_nested_list(sublist) if isinstance(sublist, list) else [sublist])]\n",
    "\n",
    "# Example usage:\n",
    "nested_list = [1, [2, [3, 4], 5], 6, [7, 8]]\n",
    "flattened_list = flatten_nested_list(nested_list)\n",
    "print(flattened_list)\n"
   ]
  },
  {
   "cell_type": "code",
   "execution_count": 3,
   "id": "b7345e0b-3081-4cad-9f32-0178e390e733",
   "metadata": {},
   "outputs": [
    {
     "name": "stdout",
     "output_type": "stream",
     "text": [
      "Sum of Even Numbers: 20\n",
      "Sum of Odd Numbers: 25\n"
     ]
    }
   ],
   "source": [
    "def separate_sum(k):\n",
    "    even_sum = sum([x for x in k if x % 2 == 0])\n",
    "    odd_sum = sum([x for x in k if x % 2 != 0])\n",
    "    return even_sum, odd_sum\n",
    "\n",
    "#usage:\n",
    "numbers = [1, 2, 3, 4, 5, 6, 7, 8, 9]\n",
    "even_sum, odd_sum = separate_sum(numbers)\n",
    "print(\"Sum of Even Numbers:\", even_sum)\n",
    "print(\"Sum of Odd Numbers:\", odd_sum)\n"
   ]
  },
  {
   "cell_type": "code",
   "execution_count": 4,
   "id": "da835f91-d647-46a7-ab33-e779b68ddc1e",
   "metadata": {},
   "outputs": [
    {
     "name": "stdout",
     "output_type": "stream",
     "text": [
      "The squared odd numbers in list are : [1, 9, 25, 49, 81]\n"
     ]
    }
   ],
   "source": [
    "def list_square_odd(g):\n",
    "    odd_squares=[ i**2 for i in g if i%2 != 0 ]\n",
    "    return odd_squares\n",
    "#usage\n",
    "digits=[1,2,3,4,5,6,7,8,9,10]\n",
    "result=list_square_odd(numbers)\n",
    "print(\"The squared odd numbers in list are :\",result)\n",
    "\n",
    "\n",
    "\n"
   ]
  },
  {
   "cell_type": "code",
   "execution_count": 5,
   "id": "435228d8-395b-4a73-ac2f-afec56f54043",
   "metadata": {},
   "outputs": [
    {
     "name": "stdout",
     "output_type": "stream",
     "text": [
      "{'name': 'shaizan', 'age': 25, 'city': 'mumbai'}\n"
     ]
    }
   ],
   "source": [
    "keys_list = [\"name\", \"age\", \"city\"]\n",
    "values_list = [\"shaizan\", 25, \"mumbai\"]\n",
    "\n",
    "result_dict = {keys_list[i]: values_list[i] for i in range(min(len(keys_list), len(values_list)))}\n",
    "print(result_dict)\n"
   ]
  },
  {
   "cell_type": "code",
   "execution_count": 6,
   "id": "0fa120a4-ad38-42a6-9ea7-14190e7c0a0e",
   "metadata": {},
   "outputs": [
    {
     "name": "stdin",
     "output_type": "stream",
     "text": [
      "enter your string : shahjahan\n"
     ]
    },
    {
     "name": "stdout",
     "output_type": "stream",
     "text": [
      "['a', 'a', 'a']\n"
     ]
    }
   ],
   "source": [
    "mixed=input(\"enter your string :\")\n",
    "separation=(\"A\",\"E\",\"I\",\"O\",\"U\",\"a\",\"e\",\"i\",\"o\",\"u\")\n",
    "separated_vowels=[]\n",
    "vowels_remover = [separated_vowels.append(i) for i in mixed if i in separation]\n",
    "print(separated_vowels)"
   ]
  },
  {
   "cell_type": "code",
   "execution_count": 7,
   "id": "c35000dc-521d-4448-94b1-ed315fd89e5e",
   "metadata": {},
   "outputs": [
    {
     "name": "stdout",
     "output_type": "stream",
     "text": [
      "['123', '234', '3487']\n"
     ]
    }
   ],
   "source": [
    "def nonnumeric_remover(alphanumeric_string):\n",
    "    \n",
    "    \n",
    "    return [\"\".join(char for char in s if char.isdigit())for s in alphanumeric_string]\n",
    "#usage\n",
    "alphanumeric=[\"123shaizan\",\"234yusuf\",\"3487farruk\"]\n",
    "result=nonnumeric_remover(alphanumeric)\n",
    "\n",
    "print(result)"
   ]
  },
  {
   "cell_type": "code",
   "execution_count": 8,
   "id": "bf692c44-bab3-4775-8db8-fd4c798438bd",
   "metadata": {},
   "outputs": [
    {
     "name": "stdout",
     "output_type": "stream",
     "text": [
      "Prime numbers up to 100: [2, 3, 5, 7, 11, 13, 17, 19, 23, 29, 31, 37, 41, 43, 47, 53, 59, 61, 67, 71, 73, 79, 83, 89, 97]\n"
     ]
    }
   ],
   "source": [
    "def sieve_of_eratosthenes(limit):\n",
    "    sieve = [True] * (limit + 1)\n",
    "    sieve[0] = sieve[1] = False\n",
    "    \n",
    "    for num in range(2, int(limit**0.5) + 1):\n",
    "        if sieve[num]:\n",
    "            sieve[num*num : limit + 1 : num] = [False] * len(sieve[num*num : limit + 1 : num])\n",
    "    \n",
    "    return [num for num, is_prime in enumerate(sieve) if is_prime]\n",
    "\n",
    "# Example usage:\n",
    "upper_limit = 100\n",
    "prime_numbers = sieve_of_eratosthenes(upper_limit)\n",
    "\n",
    "print(f\"Prime numbers up to {upper_limit}: {prime_numbers}\")\n"
   ]
  },
  {
   "cell_type": "code",
   "execution_count": 9,
   "id": "f1d149da-8ed7-4fa6-8011-dd81a5823959",
   "metadata": {},
   "outputs": [
    {
     "name": "stdout",
     "output_type": "stream",
     "text": [
      "[(3, 4, 5), (6, 8, 10)]\n"
     ]
    }
   ],
   "source": [
    "def pythogorean_triplet(limit):\n",
    "    return [(a,b, int((a**2 + b**2)**0.5)) for a in range(1, limit + 1) for b in range (a,limit +1) \n",
    "    if ((a**2 + b**2)** 0.5).is_integer() and (a**2 + b**2)** 0.5 <=limit \n",
    "    ]\n",
    "#usage\n",
    "num_pyth=10\n",
    "triplets=pythogorean_triplet(num_pyth)\n",
    "print(triplets)"
   ]
  },
  {
   "cell_type": "code",
   "execution_count": 10,
   "id": "1c2dc7e9-1bf7-4983-99b4-7d1b166e9510",
   "metadata": {},
   "outputs": [
    {
     "name": "stdout",
     "output_type": "stream",
     "text": [
      "('all possible combinations are :', '[(1, 4, 7), (1, 4, 8), (1, 4, 9), (1, 5, 7), (1, 5, 8), (1, 5, 9), (1, 6, 7), (1, 6, 8), (1, 6, 9), (2, 4, 7), (2, 4, 8), (2, 4, 9), (2, 5, 7), (2, 5, 8), (2, 5, 9), (2, 6, 7), (2, 6, 8), (2, 6, 9), (3, 4, 7), (3, 4, 8), (3, 4, 9), (3, 5, 7), (3, 5, 8), (3, 5, 9), (3, 6, 7), (3, 6, 8), (3, 6, 9)]')\n"
     ]
    }
   ],
   "source": [
    "def possible_combination(list1,list2,list3):\n",
    "    combination=[(x,y,z) for x in list1 for y in list2 for z in list3]\n",
    "    return (\"all possible combinations are :\",str(combination))\n",
    "#usage\n",
    "a=[1,2,3]\n",
    "b=[4,5,6]\n",
    "c=[7,8,9]\n",
    "result = possible_combination(a,b,c)\n",
    "print(result)\n",
    "    \n",
    "    "
   ]
  },
  {
   "cell_type": "code",
   "execution_count": 11,
   "id": "417ed062-5576-41ae-a26c-1b020e8e44d8",
   "metadata": {},
   "outputs": [
    {
     "name": "stdout",
     "output_type": "stream",
     "text": [
      "Mean: 4.7272727272727275\n",
      "Median: 5\n",
      "Mode: [3, 4, 5, 6, 7]\n"
     ]
    }
   ],
   "source": [
    "from statistics import mean, median\n",
    "from collections import Counter\n",
    "\n",
    "def calculate_mean(numbers):\n",
    "    return sum(numbers) / len(numbers)\n",
    "\n",
    "def calculate_mode(numbers):\n",
    "    count = Counter(numbers)\n",
    "    mode_list = [k for k, v in count.items() if v == max(count.values())]\n",
    "    return mode_list\n",
    "\n",
    "def calculate_statistics(numbers):\n",
    "    mean_value = calculate_mean(numbers)\n",
    "    median_value = median(numbers)\n",
    "    mode_value = calculate_mode(numbers)\n",
    "    \n",
    "    return mean_value, median_value, mode_value\n",
    "\n",
    "# Example usage:\n",
    "number_list = [3,4,5,6,7,2,3,4,5,6,7]\n",
    "mean_result, median_result, mode_result = calculate_statistics(number_list)\n",
    "\n",
    "print(f\"Mean: {mean_result}\")\n",
    "print(f\"Median: {median_result}\")\n",
    "print(f\"Mode: {mode_result}\")\n"
   ]
  },
  {
   "cell_type": "code",
   "execution_count": 12,
   "id": "28eae652-114d-4255-a52b-ca09df621076",
   "metadata": {},
   "outputs": [
    {
     "name": "stdout",
     "output_type": "stream",
     "text": [
      "Factorial of 1: 1, Sum of digits: 1\n",
      "Factorial of 2: 2, Sum of digits: 2\n",
      "Factorial of 3: 6, Sum of digits: 6\n",
      "Factorial of 4: 24, Sum of digits: 6\n",
      "Factorial of 5: 120, Sum of digits: 3\n"
     ]
    }
   ],
   "source": [
    "import math\n",
    "\n",
    "def factorial(n):\n",
    "    return math.factorial(n)\n",
    "\n",
    "def sum_of_digits(number):\n",
    "    return sum(int(digit) for digit in str(number))\n",
    "\n",
    "# Calculate factorial and sum of digits using list comprehension\n",
    "factorials = [factorial(i) for i in range(1, 6)]\n",
    "sums = [sum_of_digits(f) for f in factorials]\n",
    "\n",
    "# Display results\n",
    "for i in range(1, 6):\n",
    "    print(f\"Factorial of {i}: {factorials[i-1]}, Sum of digits: {sums[i-1]}\")\n"
   ]
  },
  {
   "cell_type": "code",
   "execution_count": 13,
   "id": "38e66a72-e3ef-4647-a3c3-198db19fca5c",
   "metadata": {},
   "outputs": [
    {
     "name": "stdout",
     "output_type": "stream",
     "text": [
      "The longest word in the sentence is: shahjahan\n"
     ]
    }
   ],
   "source": [
    "def find_longest_word(sentence):\n",
    "    words = sentence.split()\n",
    "    longest_word = max(words, key=len)\n",
    "    return longest_word\n",
    "\n",
    "# Example usage:\n",
    "input_sentence = \"my name is shahjahan shaikh i love coding.\"\n",
    "longest_word = find_longest_word(input_sentence)\n",
    "print(f\"The longest word in the sentence is: {longest_word}\")\n"
   ]
  },
  {
   "cell_type": "code",
   "execution_count": 14,
   "id": "22006178-ece0-4f3e-a1b2-fab3fc4a956d",
   "metadata": {},
   "outputs": [
    {
     "name": "stdout",
     "output_type": "stream",
     "text": [
      "Original list: ['apple', 'banana', 'hello', 'world', 'python', 'programming', 'audio', 'queue']\n",
      "Filtered list with more than three vowels: ['audio', 'queue']\n"
     ]
    }
   ],
   "source": [
    "def count_vowels(word):\n",
    "    return sum(1 for char in word if char.lower() in 'aeiou')\n",
    "\n",
    "def filter_strings_with_vowels(words):\n",
    "    return [word for word in words if count_vowels(word) > 3]\n",
    "\n",
    "# Example usage:\n",
    "word_list = [\"apple\", \"banana\", \"hello\", \"world\", \"python\", \"programming\",\"audio\",\"queue\"]\n",
    "filtered_words = filter_strings_with_vowels(word_list)\n",
    "\n",
    "print(f\"Original list: {word_list}\")\n",
    "print(f\"Filtered list with more than three vowels: {filtered_words}\")\n"
   ]
  },
  {
   "cell_type": "code",
   "execution_count": 15,
   "id": "8dc7b4b1-8f8c-421f-8a7d-5deaf71e8f49",
   "metadata": {},
   "outputs": [
    {
     "name": "stdout",
     "output_type": "stream",
     "text": [
      "Sum of digits for numbers from 1 to 1000: 13501\n"
     ]
    }
   ],
   "source": [
    "def sum_of_digits(number):\n",
    "    return sum(int(digit) for digit in str(number))\n",
    "\n",
    "# Calculate the sum of digits for numbers from 1 to 1000 using list comprehension\n",
    "sums = [sum_of_digits(i) for i in range(1, 1001)]\n",
    "\n",
    "# Display results\n",
    "total_sum = sum(sums)\n",
    "print(f\"Sum of digits for numbers from 1 to 1000: {total_sum}\")\n"
   ]
  },
  {
   "cell_type": "code",
   "execution_count": 16,
   "id": "ac1c7923-8bad-46fa-94d3-ae5f30fbca99",
   "metadata": {},
   "outputs": [
    {
     "name": "stdout",
     "output_type": "stream",
     "text": [
      "Prime Palindromic Numbers: [2, 3, 5, 7, 11, 101, 131, 151, 181, 191, 313, 353, 373, 383, 727, 757, 787, 797, 919, 929]\n"
     ]
    }
   ],
   "source": [
    "def is_prime(number):\n",
    "    if number < 2:\n",
    "        return False\n",
    "    for i in range(2, int(number**0.5) + 1):\n",
    "        if number % i == 0:\n",
    "            return False\n",
    "    return True\n",
    "\n",
    "def is_palindrome(number):\n",
    "    return str(number) == str(number)[::-1]\n",
    "\n",
    "# Generate a list of prime palindromic numbers using list comprehension\n",
    "prime_palindromes = [num for num in range(1, 1000) if is_prime(num) and is_palindrome(num)]\n",
    "\n",
    "# Display the list of prime palindromic numbers\n",
    "print(\"Prime Palindromic Numbers:\", prime_palindromes)\n"
   ]
  },
  {
   "cell_type": "code",
   "execution_count": null,
   "id": "048f8241-b694-4d9c-86fa-3ee1d4ed6578",
   "metadata": {},
   "outputs": [],
   "source": []
  }
 ],
 "metadata": {
  "kernelspec": {
   "display_name": "Python 3 (ipykernel)",
   "language": "python",
   "name": "python3"
  },
  "language_info": {
   "codemirror_mode": {
    "name": "ipython",
    "version": 3
   },
   "file_extension": ".py",
   "mimetype": "text/x-python",
   "name": "python",
   "nbconvert_exporter": "python",
   "pygments_lexer": "ipython3",
   "version": "3.10.8"
  }
 },
 "nbformat": 4,
 "nbformat_minor": 5
}
